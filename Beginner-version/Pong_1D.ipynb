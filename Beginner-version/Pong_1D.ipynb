{
 "cells": [
  {
   "cell_type": "code",
   "execution_count": 1,
   "metadata": {},
   "outputs": [],
   "source": [
    "from phySyncFirmata import ArduinoNano, util\n",
    "import time\n",
    "\n",
    "# declare board\n",
    "\n",
    "board = ArduinoNano('/dev/ttyUSB0')"
   ]
  },
  {
   "cell_type": "code",
   "execution_count": 2,
   "metadata": {},
   "outputs": [],
   "source": [
    "# reset all outputs\n",
    "\n",
    "for i in set(range(2, 13)) - {10, 11}:\n",
    "    board.digital[i].write(1)"
   ]
  },
  {
   "cell_type": "code",
   "execution_count": 3,
   "metadata": {},
   "outputs": [],
   "source": [
    "# define led pins\n",
    "\n",
    "leds = [board.get_pin('d:' + str(i) + ':o') for i in range(2, 10)]\n",
    "\n",
    "# define switch pins\n",
    "\n",
    "switches = [board.get_pin('d:' + str(j) + ':i') for j in range(10, 12)]\n",
    "\n",
    "switches.extend([board.get_pin('a:' + str(k) + ':i') for k in range(7, 1, -1)])"
   ]
  },
  {
   "cell_type": "code",
   "execution_count": 4,
   "metadata": {},
   "outputs": [],
   "source": [
    "# start iterators\n",
    "\n",
    "it = util.Iterator(board)\n",
    "it.start()"
   ]
  },
  {
   "cell_type": "code",
   "execution_count": 5,
   "metadata": {},
   "outputs": [],
   "source": [
    "# pong helper function - period: time between successive LED activations, direction: 0 if forward, 1 if backward\n",
    "# threshold: waiting time for user to press button as soon as LED wave reaches extreme LED\n",
    "\n",
    "def pong_helper(period, direction, threshold):\n",
    "    if direction == 0:\n",
    "        r = list(range(len(leds)))\n",
    "    else:\n",
    "        r = list(range(len(leds) - 1, -1, -1))\n",
    "    for i in r[:-1]:\n",
    "        leds[i].write(0)\n",
    "        board.pass_time(period)\n",
    "        leds[i].write(1)\n",
    "    leds[r[-1]].write(0)\n",
    "    success = False\n",
    "    start = time.time()\n",
    "    while time.time() - start < threshold:\n",
    "        if bool(round(float(switches[r[-1]].read()))) == False:\n",
    "            success = True\n",
    "            break\n",
    "        board.pass_time(0.01)\n",
    "    leds[r[-1]].write(1)\n",
    "    return success"
   ]
  },
  {
   "cell_type": "code",
   "execution_count": 12,
   "metadata": {},
   "outputs": [
    {
     "name": "stdout",
     "output_type": "stream",
     "text": [
      "Game starting in 2 seconds. Wave will propogate from player 1's end\n",
      "\n",
      "Player 1: 1 Player 2: 1\n",
      "\n",
      "Player 1 wins! Your LED is on now!\n"
     ]
    }
   ],
   "source": [
    "# play pong game - a 'wave' propogates through LEDS and the user(s) is/are expected to press the switch within \n",
    "# 'threshold' seconds when the wave reaches one of the extreme LEDs to reflect it. Waves progressively become\n",
    "# faster, and threshold keeps on decreasing.\n",
    "\n",
    "threshold = 1\n",
    "\n",
    "game_ended = False\n",
    "\n",
    "period = 0.5\n",
    "\n",
    "cycles_to_increase_wave_speed = 3\n",
    "\n",
    "cycles_to_decrease_reaction_time = 10\n",
    "\n",
    "count = 0\n",
    "\n",
    "for i in leds:\n",
    "    i.write(1)\n",
    "\n",
    "print(\"Game starting in 2 seconds. Wave will propogate from player 1's end\", end = \"\\n\\n\")\n",
    "    \n",
    "time.sleep(2)\n",
    "    \n",
    "while not game_ended:\n",
    "    game_ended = not pong_helper(period, count % 2, threshold)\n",
    "    if count > 1 and count % cycles_to_increase_wave_speed == 0:\n",
    "        period = period / 1.5\n",
    "    if count > 1 and count % cycles_to_decrease_reaction_time == 0:\n",
    "        threshold = threshold / 1.1\n",
    "    count += 1\n",
    "\n",
    "count -= 1\n",
    "\n",
    "p1_score = count // 2 if count % 2 == 1 else count - count // 2\n",
    "p2_score = count - p1_score\n",
    "\n",
    "print(\"Player 1:\", p1_score, \"Player 2:\", p2_score, end = \"\\n\\n\")\n",
    "print([\"Player 1\", \"Player 2\"][p1_score < p2_score], \"wins! Your LED is on now!\")\n",
    "\n",
    "# when wave ends, scores of both players are printed. The extreme LED on the side of the player who wins\n",
    "# is turned on\n",
    "\n",
    "if count % 2 == 0:\n",
    "    leds[0].write(0)\n",
    "else:\n",
    "    leds[-1].write(0)"
   ]
  },
  {
   "cell_type": "code",
   "execution_count": 68,
   "metadata": {},
   "outputs": [],
   "source": [
    "# exit\n",
    "\n",
    "board.exit()"
   ]
  },
  {
   "cell_type": "code",
   "execution_count": null,
   "metadata": {},
   "outputs": [],
   "source": []
  }
 ],
 "metadata": {
  "kernelspec": {
   "display_name": "PhySyncEnv",
   "language": "python",
   "name": "physyncenv"
  },
  "language_info": {
   "codemirror_mode": {
    "name": "ipython",
    "version": 3
   },
   "file_extension": ".py",
   "mimetype": "text/x-python",
   "name": "python",
   "nbconvert_exporter": "python",
   "pygments_lexer": "ipython3",
   "version": "3.6.9"
  }
 },
 "nbformat": 4,
 "nbformat_minor": 2
}
