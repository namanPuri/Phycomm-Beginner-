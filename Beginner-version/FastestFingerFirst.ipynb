{
 "cells": [
  {
   "cell_type": "code",
   "execution_count": 1,
   "metadata": {},
   "outputs": [],
   "source": [
    "from phySyncFirmata import ArduinoNano, util\n",
    "import time, random\n",
    "\n",
    "# declare board\n",
    "\n",
    "board = ArduinoNano('/dev/ttyUSB1')"
   ]
  },
  {
   "cell_type": "code",
   "execution_count": 2,
   "metadata": {},
   "outputs": [],
   "source": [
    "# reset all outputs\n",
    "\n",
    "for i in set(range(2, 13)) - {10, 11}:\n",
    "    board.digital[i].write(1)    "
   ]
  },
  {
   "cell_type": "code",
   "execution_count": 3,
   "metadata": {},
   "outputs": [],
   "source": [
    "# define led pins\n",
    "\n",
    "leds = [board.get_pin('d:' + str(i) + ':o') for i in range(2, 10)]\n",
    "\n",
    "# define switch pins\n",
    "\n",
    "switches = [board.get_pin('d:' + str(j) + ':i') for j in range(10, 12)]\n",
    "\n",
    "switches.extend([board.get_pin('a:' + str(k) + ':i') for k in range(7, 1, -1)])"
   ]
  },
  {
   "cell_type": "code",
   "execution_count": 4,
   "metadata": {},
   "outputs": [],
   "source": [
    "# start iterators\n",
    "\n",
    "it = util.Iterator(board)\n",
    "it.start()"
   ]
  },
  {
   "cell_type": "code",
   "execution_count": 10,
   "metadata": {},
   "outputs": [
    {
     "name": "stdout",
     "output_type": "stream",
     "text": [
      "Starting in 2 seconds.\n",
      "\n",
      "Player A won on pressing button 0.15 seconds after beep!\n",
      "Player B won on pressing button 0.19 seconds after beep!\n",
      "Player A won on pressing button 0.17 seconds after beep!\n",
      "Player B won on pressing button 0.18 seconds after beep!\n",
      "Player A won on pressing button 0.17 seconds after beep!\n",
      "\n",
      "\n",
      "Done\n"
     ]
    }
   ],
   "source": [
    "# play two - player fastest finger first: Players can define two button numbers (from 1 to 8) in the 'buttons' \n",
    "# array.\n",
    "# Buzzer beeps at random times, whoever presses the buzzer first wins and the LED corresponding to the \n",
    "# winner's button is switched on. Computer prints the time too.\n",
    "\n",
    "buttons = [1, 8]\n",
    "\n",
    "num_rounds = 5\n",
    "    \n",
    "print(\"Starting in 2 seconds.\", end = \"\\n\\n\")\n",
    "    \n",
    "time.sleep(2)\n",
    "\n",
    "count = 0\n",
    "\n",
    "board.digital[12].write(1)\n",
    "\n",
    "while count < num_rounds:\n",
    "    time.sleep(random.randint(2, 5))\n",
    "    A = [False, 0]\n",
    "    B = [False, 0]\n",
    "    board.digital[12].write(0)\n",
    "    start = time.time()\n",
    "    while not A[0] and not B[0]:\n",
    "        if bool(round(switches[buttons[0] - 1].read())) == 0:\n",
    "            A[0] = True\n",
    "            A[1] = time.time() - start\n",
    "        elif bool(round(switches[buttons[1] - 1].read())) == 0:\n",
    "            B[0] = True\n",
    "            B[1] = time.time() - start\n",
    "        board.pass_time(0.01)\n",
    "    board.digital[12].write(1)\n",
    "    if A[0]:\n",
    "        print(\"Player A won on pressing button\", round(A[1], 2), \"seconds after beep!\")\n",
    "        leds[buttons[0] - 1].write(0)\n",
    "    else:\n",
    "        print(\"Player B won on pressing button\", round(B[1], 2), \"seconds after beep!\")\n",
    "        leds[buttons[1] - 1].write(0)\n",
    "    time.sleep(1)\n",
    "    [leds[i - 1].write(1) for i in buttons]\n",
    "    count += 1\n",
    "        \n",
    "time.sleep(1)\n",
    "        \n",
    "print(\"\\n\\nDone\")"
   ]
  },
  {
   "cell_type": "code",
   "execution_count": 11,
   "metadata": {},
   "outputs": [],
   "source": [
    "# exit\n",
    "\n",
    "board.exit()"
   ]
  },
  {
   "cell_type": "code",
   "execution_count": null,
   "metadata": {},
   "outputs": [],
   "source": []
  }
 ],
 "metadata": {
  "kernelspec": {
   "display_name": "PhySyncEnv",
   "language": "python",
   "name": "physyncenv"
  },
  "language_info": {
   "codemirror_mode": {
    "name": "ipython",
    "version": 3
   },
   "file_extension": ".py",
   "mimetype": "text/x-python",
   "name": "python",
   "nbconvert_exporter": "python",
   "pygments_lexer": "ipython3",
   "version": "3.6.9"
  }
 },
 "nbformat": 4,
 "nbformat_minor": 2
}
