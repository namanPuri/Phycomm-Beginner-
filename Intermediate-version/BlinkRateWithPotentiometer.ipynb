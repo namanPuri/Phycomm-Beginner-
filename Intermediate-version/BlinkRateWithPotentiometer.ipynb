{
 "cells": [
  {
   "cell_type": "code",
   "execution_count": 1,
   "metadata": {},
   "outputs": [],
   "source": [
    "# import required libraries\n",
    "\n",
    "import time\n",
    "from phySyncFirmata import ArduinoNano, util"
   ]
  },
  {
   "cell_type": "code",
   "execution_count": 2,
   "metadata": {},
   "outputs": [],
   "source": [
    "# declare board object (adjust port)\n",
    "\n",
    "board = ArduinoNano('/dev/ttyUSB0')"
   ]
  },
  {
   "cell_type": "code",
   "execution_count": 3,
   "metadata": {},
   "outputs": [],
   "source": [
    "pins = [10, 9, 6]\n",
    "\n",
    "leds = {}\n",
    "\n",
    "colors = ['R', 'G', 'B']\n",
    "\n",
    "for l in range(3):\n",
    "    leds[colors[l]] = board.get_pin('d:' + str(pins[l]) + ':o')\n",
    "\n",
    "# potentiometer declarations\n",
    "\n",
    "potG = board.get_pin('a:2:i')\n",
    "potR = board.get_pin('a:3:i')\n",
    "potB = board.get_pin('a:4:i')\n",
    "\n",
    "# enable reporting on all 3\n",
    "\n",
    "potR.enable_reporting()\n",
    "potG.enable_reporting()\n",
    "potB.enable_reporting()"
   ]
  },
  {
   "cell_type": "code",
   "execution_count": 4,
   "metadata": {},
   "outputs": [],
   "source": [
    "# reset all inputs, outputs (except for buzzer on pin 5)\n",
    "\n",
    "for i in set(range(4, 14)) - {5}:\n",
    "    board.digital[i].write(1)"
   ]
  },
  {
   "cell_type": "code",
   "execution_count": 5,
   "metadata": {},
   "outputs": [],
   "source": [
    "# start iterator\n",
    "\n",
    "it = util.Iterator(board)\n",
    "it.start()"
   ]
  },
  {
   "cell_type": "code",
   "execution_count": 8,
   "metadata": {},
   "outputs": [
    {
     "name": "stdout",
     "output_type": "stream",
     "text": [
      "Choose your color R/G/B: R\n",
      "\n",
      "\n",
      "Simulation started\n",
      "\n",
      "\n",
      "\n",
      "\n",
      "Simulation ended\n",
      "\n",
      "\n"
     ]
    }
   ],
   "source": [
    "# set simulation time in seconds\n",
    "\n",
    "simulation_time = 30\n",
    "\n",
    "user_led_choice = leds[input('Choose your color R/G/B: ').upper()]\n",
    "\n",
    "print(\"\\n\\nSimulation started\\n\\n\")\n",
    "\n",
    "start_time = time.time()\n",
    "\n",
    "# increase this multiplier to bring more rapid changes in blink rate\n",
    "\n",
    "multiplier = 16\n",
    "\n",
    "while time.time() - start_time <= simulation_time:\n",
    "    net_potentiometer_change = 3 - potG.read() - potR.read() - potB.read()\n",
    "    freq = net_potentiometer_change * multiplier\n",
    "    if freq < 1:\n",
    "        freq = 1\n",
    "    user_led_choice.write(0)\n",
    "    board.pass_time(1 / (2 * freq))\n",
    "    user_led_choice.write(1)\n",
    "    board.pass_time(1 / (2 * freq))\n",
    "\n",
    "print(\"\\n\\nSimulation ended\\n\\n\")"
   ]
  },
  {
   "cell_type": "code",
   "execution_count": 9,
   "metadata": {},
   "outputs": [],
   "source": [
    "# clean up\n",
    "\n",
    "potR.disable_reporting()\n",
    "potG.disable_reporting()\n",
    "potB.disable_reporting()"
   ]
  },
  {
   "cell_type": "code",
   "execution_count": 11,
   "metadata": {},
   "outputs": [],
   "source": [
    "# exit\n",
    "\n",
    "board.exit()"
   ]
  },
  {
   "cell_type": "code",
   "execution_count": null,
   "metadata": {},
   "outputs": [],
   "source": []
  }
 ],
 "metadata": {
  "kernelspec": {
   "display_name": "PhySyncEnv",
   "language": "python",
   "name": "physyncenv"
  },
  "language_info": {
   "codemirror_mode": {
    "name": "ipython",
    "version": 3
   },
   "file_extension": ".py",
   "mimetype": "text/x-python",
   "name": "python",
   "nbconvert_exporter": "python",
   "pygments_lexer": "ipython3",
   "version": "3.6.9"
  }
 },
 "nbformat": 4,
 "nbformat_minor": 2
}
