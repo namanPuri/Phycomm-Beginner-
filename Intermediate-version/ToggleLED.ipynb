{
 "cells": [
  {
   "cell_type": "code",
   "execution_count": 1,
   "metadata": {},
   "outputs": [],
   "source": [
    "# import libraries\n",
    "\n",
    "import time\n",
    "from phySyncFirmata import ArduinoNano, util"
   ]
  },
  {
   "cell_type": "code",
   "execution_count": 2,
   "metadata": {},
   "outputs": [],
   "source": [
    "# declare board and adjust port\n",
    "\n",
    "board = ArduinoNano('/dev/ttyUSB0')"
   ]
  },
  {
   "cell_type": "code",
   "execution_count": 3,
   "metadata": {},
   "outputs": [],
   "source": [
    "# reset all inputs, outputs (except for buzzer on pin 5)\n",
    "\n",
    "for i in set(range(4, 14)) - {5}:\n",
    "    board.digital[i].write(1)\n",
    "\n",
    "\n",
    "# switch definition\n",
    "\n",
    "switch = board.get_pin('d:3:i')    "
   ]
  },
  {
   "cell_type": "code",
   "execution_count": 4,
   "metadata": {},
   "outputs": [],
   "source": [
    "# start iterator\n",
    "\n",
    "it = util.Iterator(board)\n",
    "it.start()"
   ]
  },
  {
   "cell_type": "code",
   "execution_count": 14,
   "metadata": {},
   "outputs": [
    {
     "name": "stdout",
     "output_type": "stream",
     "text": [
      "Enter color of LED you want to toggle (R/G/B): B\n",
      "\n",
      "\n",
      "Simulation started\n",
      "\n",
      "\n",
      "\n",
      "\n",
      "Simulation ended\n",
      "\n",
      "\n"
     ]
    }
   ],
   "source": [
    "# set simulation time in seconds\n",
    "\n",
    "simulation_time = 15\n",
    "\n",
    "# reset all LEDs\n",
    "\n",
    "for i in [10, 9, 6]:\n",
    "    board.digital[i].write(1)\n",
    "    board.taken['digital'][i] = False\n",
    "\n",
    "# ask user for LED color\n",
    "\n",
    "color = input('Enter color of LED you want to toggle (R/G/B): ').upper()[0]\n",
    "pin_number = [10, 9, 6][['R','G','B'].index(color)]\n",
    "led = board.get_pin('d:'+str(pin_number)+':o')\n",
    "\n",
    "# loop for toggling LED of specified color on pressing switch \n",
    "\n",
    "print(\"\\n\\nSimulation started\\n\\n\")\n",
    "\n",
    "state = False\n",
    "led.write(state)\n",
    "start_time = time.time()\n",
    "while time.time() - start_time <= simulation_time:\n",
    "    if switch.read() == False:\n",
    "        state = not state\n",
    "        board.pass_time(0.2)\n",
    "        led.write(not state)\n",
    "\n",
    "print(\"\\n\\nSimulation ended\\n\\n\")"
   ]
  },
  {
   "cell_type": "code",
   "execution_count": 17,
   "metadata": {},
   "outputs": [],
   "source": [
    "# once done, close board; if error comes first time, execute second time\n",
    "\n",
    "board.exit()"
   ]
  }
 ],
 "metadata": {
  "kernelspec": {
   "display_name": "PhySyncEnv",
   "language": "python",
   "name": "physyncenv"
  },
  "language_info": {
   "codemirror_mode": {
    "name": "ipython",
    "version": 3
   },
   "file_extension": ".py",
   "mimetype": "text/x-python",
   "name": "python",
   "nbconvert_exporter": "python",
   "pygments_lexer": "ipython3",
   "version": "3.6.9"
  }
 },
 "nbformat": 4,
 "nbformat_minor": 2
}
