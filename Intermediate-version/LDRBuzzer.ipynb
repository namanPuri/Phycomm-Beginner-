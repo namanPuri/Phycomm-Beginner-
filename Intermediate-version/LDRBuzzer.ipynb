{
 "cells": [
  {
   "cell_type": "code",
   "execution_count": 1,
   "metadata": {},
   "outputs": [],
   "source": [
    "# import libraries\n",
    "\n",
    "import time\n",
    "from phySyncFirmata import ArduinoNano, util"
   ]
  },
  {
   "cell_type": "code",
   "execution_count": 2,
   "metadata": {},
   "outputs": [],
   "source": [
    "# declare board and adjust port\n",
    "\n",
    "board = ArduinoNano('/dev/ttyUSB0')"
   ]
  },
  {
   "cell_type": "code",
   "execution_count": 3,
   "metadata": {},
   "outputs": [],
   "source": [
    "# reset all inputs, outputs (except for buzzer on pin 5)\n",
    "\n",
    "for i in set(range(4, 14)) - {5}:\n",
    "    board.digital[i].write(1)"
   ]
  },
  {
   "cell_type": "code",
   "execution_count": 4,
   "metadata": {},
   "outputs": [],
   "source": [
    "# declare LDR\n",
    "\n",
    "ldr = board.get_pin('a:5:i')\n",
    "\n",
    "# declare Buzzer\n",
    "\n",
    "buzzer = board.get_pin('d:5:o')"
   ]
  },
  {
   "cell_type": "code",
   "execution_count": 5,
   "metadata": {},
   "outputs": [],
   "source": [
    "# enable reporting\n",
    "\n",
    "ldr.enable_reporting()\n",
    "\n",
    "# start iterator\n",
    "\n",
    "it = util.Iterator(board)\n",
    "it.start()"
   ]
  },
  {
   "cell_type": "code",
   "execution_count": 6,
   "metadata": {},
   "outputs": [
    {
     "name": "stdout",
     "output_type": "stream",
     "text": [
      "Done calibrating\n"
     ]
    }
   ],
   "source": [
    "# set LDR threshold between 0 and 1\n",
    "\n",
    "# threshold = 0.35 (uncomment this and comment all other lines in this cell to set your own threshold)\n",
    "\n",
    "# or, calibrate automatically:  create maximum brightness environment\n",
    "# i.e. by exposing LDR to maximum brightness it will face in simulation\n",
    "\n",
    "threshold = 0\n",
    "for i in range(50):\n",
    "    threshold += ldr.read()\n",
    "    board.pass_time(0.01)\n",
    "threshold = max(threshold / 50 + 0.1, 0.2)\n",
    "print(\"Done calibrating\")"
   ]
  },
  {
   "cell_type": "code",
   "execution_count": null,
   "metadata": {},
   "outputs": [
    {
     "name": "stdout",
     "output_type": "stream",
     "text": [
      "\n",
      "\n",
      "Simulation started\n",
      "\n",
      "\n"
     ]
    }
   ],
   "source": [
    "# set simulation time in seconds\n",
    "\n",
    "simulation_time = 15\n",
    "\n",
    "# if LDR reading is lesser than threshold (it decreases with increase \n",
    "# in ambient brightness), buzzer will start \n",
    "\n",
    "print('\\n\\nSimulation started\\n\\n')\n",
    "\n",
    "start = time.time()\n",
    "\n",
    "while time.time() - start <= simulation_time:\n",
    "    \n",
    "    if ldr.read() < threshold:\n",
    "        \n",
    "        buzzer.write(1)\n",
    "        \n",
    "    else:\n",
    "        \n",
    "        buzzer.write(0)\n",
    "        \n",
    "    board.pass_time(0.2)\n",
    "\n",
    "\n",
    "buzzer.write(0)\n",
    "        \n",
    "print('\\n\\nSimulation ended\\n\\n')"
   ]
  },
  {
   "cell_type": "code",
   "execution_count": 11,
   "metadata": {},
   "outputs": [],
   "source": [
    "# clean up\n",
    "\n",
    "ldr.disable_reporting()"
   ]
  },
  {
   "cell_type": "code",
   "execution_count": 12,
   "metadata": {},
   "outputs": [],
   "source": [
    "# exit\n",
    "\n",
    "board.exit()"
   ]
  }
 ],
 "metadata": {
  "kernelspec": {
   "display_name": "PhySyncEnv",
   "language": "python",
   "name": "physyncenv"
  },
  "language_info": {
   "codemirror_mode": {
    "name": "ipython",
    "version": 3
   },
   "file_extension": ".py",
   "mimetype": "text/x-python",
   "name": "python",
   "nbconvert_exporter": "python",
   "pygments_lexer": "ipython3",
   "version": "3.6.9"
  }
 },
 "nbformat": 4,
 "nbformat_minor": 2
}
