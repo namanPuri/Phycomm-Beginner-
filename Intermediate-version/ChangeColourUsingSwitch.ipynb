{
 "cells": [
  {
   "cell_type": "code",
   "execution_count": 1,
   "metadata": {},
   "outputs": [],
   "source": [
    "# import required libraries\n",
    "\n",
    "import matplotlib.colors as mplc, time\n",
    "from phySyncFirmata import ArduinoNano, util"
   ]
  },
  {
   "cell_type": "code",
   "execution_count": 2,
   "metadata": {},
   "outputs": [],
   "source": [
    "# declare board object (adjust port)\n",
    "\n",
    "board = ArduinoNano('/dev/ttyUSB0')"
   ]
  },
  {
   "cell_type": "code",
   "execution_count": 3,
   "metadata": {},
   "outputs": [],
   "source": [
    "# declare RGB LED pins as PWM\n",
    "\n",
    "r_pin, g_pin, b_pin = 10, 9, 6\n",
    "\n",
    "leds = [r_pin, g_pin, b_pin]\n",
    "\n",
    "led_pins = []\n",
    "\n",
    "for i in (r_pin, g_pin, b_pin):\n",
    "    led_pins.append(board.get_pin('d:'+str(i)+':p'))\n",
    "\n",
    "# declare switch\n",
    "\n",
    "switch = board.get_pin('d:3:i')"
   ]
  },
  {
   "cell_type": "code",
   "execution_count": 4,
   "metadata": {},
   "outputs": [],
   "source": [
    "# reset pins\n",
    "\n",
    "for i in set(range(4, 14)) - {5}:\n",
    "    board.digital[i].write(1)"
   ]
  },
  {
   "cell_type": "code",
   "execution_count": 5,
   "metadata": {},
   "outputs": [],
   "source": [
    "# start iterator\n",
    "\n",
    "it = util.Iterator(board)\n",
    "it.start()"
   ]
  },
  {
   "cell_type": "code",
   "execution_count": 6,
   "metadata": {},
   "outputs": [
    {
     "name": "stdout",
     "output_type": "stream",
     "text": [
      "\n",
      "\n",
      "Simulation started\n",
      "\n",
      "\n",
      "\n",
      "\n",
      "Simulation ended\n",
      "\n",
      "\n"
     ]
    }
   ],
   "source": [
    "# set simulation time in seconds\n",
    "\n",
    "simulation_time = 15\n",
    "\n",
    "# define your own progression of colors!\n",
    "\n",
    "# the code cycles through these LED colors on pressing the switch\n",
    "\n",
    "# possible values for colors: cyan / c, magenta / m, yellow / y, \n",
    "# black / k, red / r, green / g, blue / b, white / w, black / k\n",
    "\n",
    "# Here, red -> green -> blue -> magenta -> yellow -> cyan -> white -> off and repeat\n",
    "\n",
    "color_order = ['r', 'g', 'b', 'm', 'y', 'c', 'w', 'k']\n",
    "\n",
    "colors = list(map(lambda t: tuple(int(255 * y) for y in t), \n",
    "                  list(map(lambda x: mplc.to_rgb(x), color_order))))\n",
    "\n",
    "# to define your custom colors, comment above two lines and declare list\n",
    "# 'colors' as a list of tuples, with each tuple containing three RGB values \n",
    "# (in this order - r, g, b) from 0 to 255 corresponding to your color \n",
    "\n",
    "# example custom color list :\n",
    "\n",
    "# colors = [(255, 0, 0), (0, 255, 0), (0, 0, 255)] (full red, full green, full blue)\n",
    "\n",
    "counter = 0\n",
    "\n",
    "print(\"\\n\\nSimulation started\\n\\n\")\n",
    "\n",
    "start = time.time()\n",
    "\n",
    "while time.time() - start <= simulation_time:\n",
    "    if switch.read() == False:\n",
    "        counter += 1\n",
    "        board.pass_time(0.2)\n",
    "    else:\n",
    "        col = colors[counter % len(colors)]\n",
    "        for i in range(3):\n",
    "            led_pins[i].write(1 - col[i]/255)\n",
    "\n",
    "# switch off after simulation \n",
    "\n",
    "for i in range(3):\n",
    "    led_pins[i].write(1)\n",
    "\n",
    "print(\"\\n\\nSimulation ended\\n\\n\")\n",
    "# note -> LEDS receive analog values from 0 to 1, where 0 represents fully on\n",
    "# and 1 represents off. So subtract 255 from each channel value and \n",
    "# divide by 255 to get required decimal"
   ]
  },
  {
   "cell_type": "code",
   "execution_count": 8,
   "metadata": {},
   "outputs": [],
   "source": [
    "# exit the board\n",
    "\n",
    "board.exit()"
   ]
  },
  {
   "cell_type": "code",
   "execution_count": null,
   "metadata": {},
   "outputs": [],
   "source": []
  }
 ],
 "metadata": {
  "kernelspec": {
   "display_name": "PhySyncEnv",
   "language": "python",
   "name": "physyncenv"
  },
  "language_info": {
   "codemirror_mode": {
    "name": "ipython",
    "version": 3
   },
   "file_extension": ".py",
   "mimetype": "text/x-python",
   "name": "python",
   "nbconvert_exporter": "python",
   "pygments_lexer": "ipython3",
   "version": "3.6.9"
  }
 },
 "nbformat": 4,
 "nbformat_minor": 2
}
