{
 "cells": [
  {
   "cell_type": "code",
   "execution_count": 1,
   "metadata": {},
   "outputs": [],
   "source": [
    "from phySyncFirmata import ArduinoNano, util\n",
    "import time, random\n",
    "\n",
    "# declare board\n",
    "\n",
    "board = ArduinoNano('/dev/ttyUSB0')"
   ]
  },
  {
   "cell_type": "code",
   "execution_count": 2,
   "metadata": {},
   "outputs": [],
   "source": [
    "# reset all inputs, outputs (except for buzzer on pin 5)\n",
    "\n",
    "for i in set(range(4, 14)) - {5}:\n",
    "    board.digital[i].write(1) "
   ]
  },
  {
   "cell_type": "code",
   "execution_count": 3,
   "metadata": {},
   "outputs": [],
   "source": [
    "# declare relay\n",
    "\n",
    "relay = board.digital[8]"
   ]
  },
  {
   "cell_type": "code",
   "execution_count": 10,
   "metadata": {},
   "outputs": [],
   "source": [
    "# declare PIR sensor\n",
    "\n",
    "pir = board.get_pin('d:2:i')"
   ]
  },
  {
   "cell_type": "code",
   "execution_count": 24,
   "metadata": {},
   "outputs": [],
   "source": [
    "# start iterators\n",
    "\n",
    "it = util.Iterator(board)\n",
    "it.start()"
   ]
  },
  {
   "cell_type": "code",
   "execution_count": 39,
   "metadata": {},
   "outputs": [
    {
     "name": "stdout",
     "output_type": "stream",
     "text": [
      "Detected living thing!\n",
      "Done\n"
     ]
    }
   ],
   "source": [
    "# connect PIR and Relay to board - three pins for each (GND, OUT, VCC)\n",
    "\n",
    "# automatic passage light - the Relay will activate whenever it detects motion due to human or animal presence\n",
    "# when person exits the field of view of the sensor, it will wait for 15 seconds and then disable relay\n",
    "\n",
    "simulation_time = 25\n",
    "\n",
    "start_time = time.time()\n",
    "\n",
    "breakAll = False\n",
    "\n",
    "relay.write(1)\n",
    "\n",
    "while time.time() - start_time < simulation_time:\n",
    "    if pir.read() == False:\n",
    "        print(\"Detected living thing!\")\n",
    "        relay.write(0)\n",
    "        while pir.read() == False:\n",
    "            if time.time() - start_time >= simulation_time:\n",
    "                breakAll = True\n",
    "                break\n",
    "            board.pass_time(0.1)\n",
    "        if breakAll:\n",
    "            break\n",
    "        time.sleep(15)\n",
    "        print(\"living thing exited\", end = \"\\n\\n\")\n",
    "        relay.write(1)\n",
    "    board.pass_time(0.1)\n",
    "    \n",
    "time.sleep(1)\n",
    "\n",
    "relay.write(1)\n",
    "        \n",
    "print(\"Done\")"
   ]
  },
  {
   "cell_type": "code",
   "execution_count": 76,
   "metadata": {},
   "outputs": [],
   "source": [
    "# exit\n",
    "\n",
    "board.exit()"
   ]
  }
 ],
 "metadata": {
  "kernelspec": {
   "display_name": "PhySyncEnv",
   "language": "python",
   "name": "physyncenv"
  },
  "language_info": {
   "codemirror_mode": {
    "name": "ipython",
    "version": 3
   },
   "file_extension": ".py",
   "mimetype": "text/x-python",
   "name": "python",
   "nbconvert_exporter": "python",
   "pygments_lexer": "ipython3",
   "version": "3.6.9"
  }
 },
 "nbformat": 4,
 "nbformat_minor": 2
}
