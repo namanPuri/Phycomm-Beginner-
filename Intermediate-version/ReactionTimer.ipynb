{
 "cells": [
  {
   "cell_type": "code",
   "execution_count": 2,
   "metadata": {},
   "outputs": [],
   "source": [
    "from phySyncFirmata import ArduinoNano, util\n",
    "import time, random\n",
    "\n",
    "# declare board\n",
    "\n",
    "board = ArduinoNano('/dev/ttyUSB0')"
   ]
  },
  {
   "cell_type": "code",
   "execution_count": 3,
   "metadata": {},
   "outputs": [],
   "source": [
    "# reset all inputs, outputs (except for buzzer on pin 5)\n",
    "\n",
    "for i in set(range(4, 14)) - {5}:\n",
    "    board.digital[i].write(1)\n",
    "\n",
    "\n",
    "# switch definition\n",
    "\n",
    "switch = board.get_pin('d:3:i')    "
   ]
  },
  {
   "cell_type": "code",
   "execution_count": 4,
   "metadata": {},
   "outputs": [],
   "source": [
    "# R G B LED channels\n",
    "\n",
    "r = board.digital[10]\n",
    "g = board.digital[9]\n",
    "b = board.digital[6]"
   ]
  },
  {
   "cell_type": "code",
   "execution_count": 5,
   "metadata": {},
   "outputs": [],
   "source": [
    "# start iterators\n",
    "\n",
    "it = util.Iterator(board)\n",
    "it.start()"
   ]
  },
  {
   "cell_type": "code",
   "execution_count": 6,
   "metadata": {},
   "outputs": [
    {
     "name": "stdout",
     "output_type": "stream",
     "text": [
      "Starting in 2 seconds.\n",
      "\n",
      "Time between LED glow and button press: 0.22 seconds.\n",
      "\n",
      "Time between LED glow and button press: 0.22 seconds.\n",
      "\n",
      "Time between LED glow and button press: 0.24 seconds.\n",
      "\n",
      "Time between LED glow and button press: 0.24 seconds.\n",
      "\n",
      "Time between LED glow and button press: 0.22 seconds.\n",
      "\n",
      "Done\n"
     ]
    }
   ],
   "source": [
    "# reaction timer: LED will glow at random times. Press the button whenever it does. The program will print \n",
    "# time between LED glow and button press. Number of rounds is defined by num_rounds\n",
    "\n",
    "num_rounds = 5\n",
    "\n",
    "[x.write(1) for x in [r, g, b]]\n",
    "\n",
    "print(\"Starting in 2 seconds.\", end = \"\\n\\n\")\n",
    "    \n",
    "time.sleep(2)\n",
    "\n",
    "count = 0\n",
    "\n",
    "while count < num_rounds:\n",
    "    time.sleep(random.randint(2, 5))\n",
    "    [x.write(0) for x in [r, g, b]]\n",
    "    delay = 0\n",
    "    start = time.time()\n",
    "    while not switch.read() == 0:\n",
    "        board.pass_time(0.01)\n",
    "    delay = time.time() - start\n",
    "    print(\"Time between LED glow and button press:\", round(delay, 2), \"seconds.\", end = \"\\n\\n\")\n",
    "    [x.write(1) for x in [r, g, b]]\n",
    "    count += 1\n",
    "    \n",
    "time.sleep(1)\n",
    "        \n",
    "print(\"Done\")"
   ]
  },
  {
   "cell_type": "code",
   "execution_count": 7,
   "metadata": {},
   "outputs": [],
   "source": [
    "board.exit()"
   ]
  },
  {
   "cell_type": "code",
   "execution_count": null,
   "metadata": {},
   "outputs": [],
   "source": []
  }
 ],
 "metadata": {
  "kernelspec": {
   "display_name": "PhySyncEnv",
   "language": "python",
   "name": "physyncenv"
  },
  "language_info": {
   "codemirror_mode": {
    "name": "ipython",
    "version": 3
   },
   "file_extension": ".py",
   "mimetype": "text/x-python",
   "name": "python",
   "nbconvert_exporter": "python",
   "pygments_lexer": "ipython3",
   "version": "3.6.9"
  }
 },
 "nbformat": 4,
 "nbformat_minor": 2
}
