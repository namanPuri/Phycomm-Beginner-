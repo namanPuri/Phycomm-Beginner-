{
 "cells": [
  {
   "cell_type": "code",
   "execution_count": 1,
   "metadata": {},
   "outputs": [],
   "source": [
    "# import required libraries\n",
    "\n",
    "import time\n",
    "from phySyncFirmata import ArduinoNano, util"
   ]
  },
  {
   "cell_type": "code",
   "execution_count": 2,
   "metadata": {},
   "outputs": [],
   "source": [
    "# declare board object (adjust port)\n",
    "\n",
    "board = ArduinoNano('/dev/ttyUSB0')"
   ]
  },
  {
   "cell_type": "code",
   "execution_count": 3,
   "metadata": {},
   "outputs": [],
   "source": [
    "# LEDS definition\n",
    "\n",
    "pins = [10, 9, 6]\n",
    "\n",
    "leds = {}\n",
    "\n",
    "colors = ['R', 'G', 'B']\n",
    "\n",
    "for l in range(3):\n",
    "    leds[colors[l]] = board.get_pin('d:' + str(pins[l]) + ':p') \n",
    "\n",
    "# potentiometer declarations\n",
    "\n",
    "potG = board.get_pin('a:2:i')\n",
    "potR = board.get_pin('a:3:i')\n",
    "potB = board.get_pin('a:4:i')\n",
    "\n",
    "# enable reporting on all 3\n",
    "\n",
    "potR.enable_reporting()\n",
    "potG.enable_reporting()\n",
    "potB.enable_reporting()"
   ]
  },
  {
   "cell_type": "code",
   "execution_count": 4,
   "metadata": {},
   "outputs": [],
   "source": [
    "# reset all inputs, outputs (except for buzzer on pin 5)\n",
    "\n",
    "for i in set(range(4, 14)) - {5}:\n",
    "    board.digital[i].write(1)"
   ]
  },
  {
   "cell_type": "code",
   "execution_count": 5,
   "metadata": {},
   "outputs": [],
   "source": [
    "# start iterator\n",
    "\n",
    "it = util.Iterator(board)\n",
    "it.start()"
   ]
  },
  {
   "cell_type": "code",
   "execution_count": 12,
   "metadata": {},
   "outputs": [
    {
     "name": "stdout",
     "output_type": "stream",
     "text": [
      "\n",
      "\n",
      "Simulation started\n",
      "\n",
      "\n",
      "\n",
      "\n",
      "Simulation ended\n",
      "\n",
      "\n"
     ]
    }
   ],
   "source": [
    "# set simulation time in seconds\n",
    "\n",
    "simulation_time = 30\n",
    "\n",
    "pots = {'R': potR, 'G': potG, 'B': potB}\n",
    "\n",
    "for i in leds.values():\n",
    "    i.write(1)\n",
    "    \n",
    "print(\"\\n\\nSimulation started\\n\\n\")\n",
    "\n",
    "start_time = time.time()\n",
    "\n",
    "while time.time() - start_time <= simulation_time:\n",
    "    values = [x.read() for x in pots.values()]\n",
    "    if switch.read() == False:\n",
    "        counter += 1\n",
    "        board.pass_time(0.2)\n",
    "    else:\n",
    "        for j in range(3):\n",
    "            \n",
    "            if j == counter % 3:\n",
    "                \n",
    "                col = colors[j]\n",
    "                \n",
    "                # case 1: \n",
    "                # for LED intensity control by corresponding color potentiometer, use\n",
    "                \n",
    "                leds[col].write(values[j]) # comment this for case 2 use\n",
    "                \n",
    "                # case 2: \n",
    "                # if goal is to control intensity of selected LED with any potentiometer, uncomment\n",
    "                # the following lines and comment the previous code line (marked)\n",
    "                \n",
    "#                 diff = sum([values[i] - initial_values[i] for i in range(3)])\n",
    "#                 if diff > 1:\n",
    "#                     diff = 1\n",
    "#                 elif diff < -1:\n",
    "#                     diff = -1\n",
    "#                 current_val = current_val + diff\n",
    "#                 if current_val > 1:\n",
    "#                     current_val = 1\n",
    "#                 if current_val < 0:\n",
    "#                     current_val = 0\n",
    "#                 leds[col].write(current_val)\n",
    "                \n",
    "            else:\n",
    "                \n",
    "                leds[colors[j]].write(1)\n",
    "                \n",
    "            board.pass_time(0.01)\n",
    "            \n",
    "    initial_values = values.copy()\n",
    "\n",
    "for i in leds.values():\n",
    "    i.write(1)\n",
    "    \n",
    "print('\\n\\nSimulation ended\\n\\n')"
   ]
  },
  {
   "cell_type": "code",
   "execution_count": 13,
   "metadata": {},
   "outputs": [],
   "source": [
    "# free up pins\n",
    "\n",
    "potR.disable_reporting()\n",
    "potG.disable_reporting()\n",
    "potB.disable_reporting()"
   ]
  },
  {
   "cell_type": "code",
   "execution_count": 15,
   "metadata": {},
   "outputs": [],
   "source": [
    "# exit the board\n",
    "\n",
    "board.exit()"
   ]
  },
  {
   "cell_type": "code",
   "execution_count": null,
   "metadata": {},
   "outputs": [],
   "source": []
  }
 ],
 "metadata": {
  "kernelspec": {
   "display_name": "PhySyncEnv",
   "language": "python",
   "name": "physyncenv"
  },
  "language_info": {
   "codemirror_mode": {
    "name": "ipython",
    "version": 3
   },
   "file_extension": ".py",
   "mimetype": "text/x-python",
   "name": "python",
   "nbconvert_exporter": "python",
   "pygments_lexer": "ipython3",
   "version": "3.6.9"
  }
 },
 "nbformat": 4,
 "nbformat_minor": 2
}
